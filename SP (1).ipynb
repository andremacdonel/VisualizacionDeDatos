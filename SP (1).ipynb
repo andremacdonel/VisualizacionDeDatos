{
 "cells": [
  {
   "cell_type": "markdown",
   "metadata": {},
   "source": [
    "# Encuesta Nacional sobre Disponibilidad y Uso de Tecnologías de la Información en los Hogares (ENDUTIH) 2019"
   ]
  },
  {
   "cell_type": "markdown",
   "metadata": {},
   "source": [
    "## Escribe el organismo que lo generó\n",
    " INEGI\n",
    "## Incluye un enlace de Internet de dónde se pueden descargar en línea y envíalo como una hoja de cálculo junto con su informe correspondiente. \n",
    "https://www.inegi.org.mx/programas/dutih/2019/#Datos_abiertos\n",
    "\n",
    "## Describe el conjunto de datos. ¿Qué datos contiene?\n",
    "\n",
    " El conjunto de datos contiene información relacionada a la población en Mexico la cual realizó una encuesta. La Encuesta Nacional sobre Disponibilidad y Uso de Tecnologías de la Información en los Hogares (ENDUTIH) 2019 tiene como finalidad obtener información sobre la disponibilidad y el uso de las tecnologías de información y comunicaciones en los hogares y su utilización por los individuos de seis años o más en México, para generar información estadística en el tema y apoyar la toma de decisiones en cuestión de políticas públicas; asimismo, ofrece elementos de análisis a estudios nacionales e internacionales y para el público en general interesado en la materia. A partir de esa base datos se realizó una extracción de las variables que tuvieran mayor relevancia quedando una base de datos mas pequeña. \n",
    "\n",
    "## Normalmente, los datos tienen un identificador que se incluye en el encabezado de la columna correspondiente. ¿Qué identificador no tiene claro su significado?¿Cómo podrías investigarlo?\n",
    "\n",
    "En caso de no saber de manera específica cuales son los significados de las variables. En mi caso el INEGI al descargar el archivo, se obtiene una carpeta zip que contiene diferentes archivos en los cuales ademas de tener los de excel se encuentran de tipo texto, donde se explican las variables.\n",
    "\n",
    "## ¿Cuáles son algunas de las preguntas podrías responder con estos datos? Enumera al menos tres (no respondas a las preguntas).\n",
    "\n",
    "¿Cual es la probabilidad de que un hogar tenga internet?\n",
    " ¿Es importante el ingreso de las personas para que tengan internet?\n",
    "¿Que tan relevante es el internet?\n",
    "\n",
    "## ¿Qué stakeholder (empresa, sector de la sociedad, organismo descentralizado, gobierno, etc.) estaría interesado en las preguntas que identificaste en el punto 6?\n",
    "\n",
    "Gobierno de Mexico \n",
    " ,Empresas de consumo alimenticio\n",
    " ,Medios masivos de comunicación\n",
    " ,Escuelas\n",
    " e Industria en general\n",
    "\n"
   ]
  },
  {
   "cell_type": "code",
   "execution_count": 1,
   "metadata": {},
   "outputs": [],
   "source": [
    "import pandas as pd\n",
    "import numpy as np\n",
    "import matplotlib.pyplot as plt\n",
    "import seaborn as sns\n",
    "import matplotlib as plt"
   ]
  },
  {
   "cell_type": "code",
   "execution_count": 2,
   "metadata": {},
   "outputs": [
    {
     "name": "stdout",
     "output_type": "stream",
     "text": [
      "Collecting statsmodels\n",
      "  Downloading statsmodels-0.13.0-cp38-cp38-manylinux_2_17_x86_64.manylinux2014_x86_64.whl (9.9 MB)\n",
      "\u001b[K     |████████████████████████████████| 9.9 MB 4.9 MB/s eta 0:00:01\n",
      "\u001b[?25hRequirement already satisfied: scipy>=1.3 in /srv/conda/envs/notebook/lib/python3.8/site-packages (from statsmodels) (1.4.1)\n",
      "Collecting patsy>=0.5.2\n",
      "  Downloading patsy-0.5.2-py2.py3-none-any.whl (233 kB)\n",
      "\u001b[K     |████████████████████████████████| 233 kB 80.4 MB/s eta 0:00:01\n",
      "\u001b[?25hRequirement already satisfied: pandas>=0.25 in /srv/conda/envs/notebook/lib/python3.8/site-packages (from statsmodels) (1.0.4)\n",
      "Requirement already satisfied: numpy>=1.17 in /srv/conda/envs/notebook/lib/python3.8/site-packages (from statsmodels) (1.18.5)\n",
      "Requirement already satisfied: python-dateutil>=2.6.1 in /srv/conda/envs/notebook/lib/python3.8/site-packages (from pandas>=0.25->statsmodels) (2.8.1)\n",
      "Requirement already satisfied: pytz>=2017.2 in /srv/conda/envs/notebook/lib/python3.8/site-packages (from pandas>=0.25->statsmodels) (2020.1)\n",
      "Requirement already satisfied: six in /srv/conda/envs/notebook/lib/python3.8/site-packages (from patsy>=0.5.2->statsmodels) (1.15.0)\n",
      "Installing collected packages: patsy, statsmodels\n",
      "Successfully installed patsy-0.5.2 statsmodels-0.13.0\n",
      "Note: you may need to restart the kernel to use updated packages.\n"
     ]
    }
   ],
   "source": [
    "pip install statsmodels"
   ]
  },
  {
   "cell_type": "code",
   "execution_count": 3,
   "metadata": {},
   "outputs": [],
   "source": [
    "import statsmodels.api as sm"
   ]
  },
  {
   "cell_type": "code",
   "execution_count": 4,
   "metadata": {},
   "outputs": [
    {
     "name": "stdout",
     "output_type": "stream",
     "text": [
      "adult.csv                  census.csv        nhanes_2015_2016.csv\n",
      "airline_data.csv           cwurData.csv      pokemon.csv\n",
      "antropometria00.csv        data.csv          sample_pivot.csv\n",
      "antropometria-dataset.csv  endutih_2019.csv  tips.csv\n",
      "Canada.xlsx                headbrain.csv     weight-height.csv\n",
      "Cartwheeldata.csv          movies.csv\n"
     ]
    }
   ],
   "source": [
    "%ls datasets/"
   ]
  },
  {
   "cell_type": "markdown",
   "metadata": {},
   "source": [
    "## 1. ¿Cuál es la variable de interés a pronosticar?, ¿Qué se espera lograr con este proyecto?"
   ]
  },
  {
   "cell_type": "code",
   "execution_count": 5,
   "metadata": {},
   "outputs": [
    {
     "data": {
      "text/plain": [
       "Index(['folioviv', 'conex_inte', 'ing_cor', 'energia', 'comunica', 'menores'], dtype='object')"
      ]
     },
     "execution_count": 5,
     "metadata": {},
     "output_type": "execute_result"
    }
   ],
   "source": [
    "df = pd.read_csv('datasets/endutih_2019.csv',\n",
    "                 low_memory=False)\n",
    "df.columns"
   ]
  },
  {
   "cell_type": "markdown",
   "metadata": {},
   "source": [
    "Para representar la probabilidad de que un hogar tenga internet o no tenga usaremos una variable\n",
    "dependiente cualitativa, ya que refleja la cualidad de tener acceso a internet en un hogar o no tenerlo,\n",
    "donde el “0” es que el hogar no tenga acceso a internet y “1” es que si tenga acceso a internet. Dicho\n",
    "lo anterior, el modelo matemático planteado es el siguiente:\n",
    "“inter = β0+ β1 (ing_cor)+ β2 (energia) + β3 (comunica) + β4 (menores)”"
   ]
  },
  {
   "cell_type": "markdown",
   "metadata": {},
   "source": [
    "## 2. ¿Cuántas variables hay y de qué tipos son?, ¿Por qué es importante conocer esta información?"
   ]
  },
  {
   "cell_type": "code",
   "execution_count": 6,
   "metadata": {},
   "outputs": [
    {
     "name": "stdout",
     "output_type": "stream",
     "text": [
      "<class 'pandas.core.frame.DataFrame'>\n",
      "RangeIndex: 74647 entries, 0 to 74646\n",
      "Data columns (total 6 columns):\n",
      " #   Column      Non-Null Count  Dtype  \n",
      "---  ------      --------------  -----  \n",
      " 0   folioviv    74647 non-null  int64  \n",
      " 1   conex_inte  74647 non-null  int64  \n",
      " 2   ing_cor     74647 non-null  float64\n",
      " 3   energia     74647 non-null  float64\n",
      " 4   comunica    74647 non-null  float64\n",
      " 5   menores     74647 non-null  int64  \n",
      "dtypes: float64(3), int64(3)\n",
      "memory usage: 3.4 MB\n"
     ]
    }
   ],
   "source": [
    "df.info()"
   ]
  },
  {
   "cell_type": "markdown",
   "metadata": {},
   "source": [
    "Lo primero a analizar son las dimensiones de la muestra: se cuenta con una cantidad de 6\n",
    "variables y 74747 observaciones. La mitad de las variables son de tipo float y tipo int.\n",
    "Es importante preguntarnos esto porque nos interesa que nuestro modelo de regresión\n",
    "admita variables de tipo float, de lo contrario, las variables int cambian la gráfica esperada.\n",
    "\n",
    "Descripción de las variables:\n",
    "1) HOGARES CON ACCESO A INTERNET: conex_inte Hogares quecuentan con el servicio de internet.\n",
    "2) INGRESO TOTAL MENSUAL: ing_cor Suma de los ingresos por trabajo, los provenientes de rentas,\n",
    "de transferencias, de estimaciÛn del alquiler y de otros ingresos.\n",
    "3) GASTO MENSUAL EN ENERGÍA : energía Gasto en electricidad y combustibles.\n",
    "4) GASTO MENSUAL EN COMUNICACIONES: comunica Gasto en comunicaciones.\n",
    "5) MENORES DE EDAD: menores Integrantes del hogar que tienen 11 o menos años de edad"
   ]
  },
  {
   "cell_type": "markdown",
   "metadata": {},
   "source": [
    "## 3 ¿Qué distribución sigue la variable de interés ('conex_inte')?"
   ]
  },
  {
   "cell_type": "code",
   "execution_count": 7,
   "metadata": {},
   "outputs": [
    {
     "data": {
      "text/html": [
       "<div>\n",
       "<style scoped>\n",
       "    .dataframe tbody tr th:only-of-type {\n",
       "        vertical-align: middle;\n",
       "    }\n",
       "\n",
       "    .dataframe tbody tr th {\n",
       "        vertical-align: top;\n",
       "    }\n",
       "\n",
       "    .dataframe thead th {\n",
       "        text-align: right;\n",
       "    }\n",
       "</style>\n",
       "<table border=\"1\" class=\"dataframe\">\n",
       "  <thead>\n",
       "    <tr style=\"text-align: right;\">\n",
       "      <th></th>\n",
       "      <th>folioviv</th>\n",
       "      <th>conex_inte</th>\n",
       "      <th>ing_cor</th>\n",
       "      <th>energia</th>\n",
       "      <th>comunica</th>\n",
       "      <th>menores</th>\n",
       "    </tr>\n",
       "  </thead>\n",
       "  <tbody>\n",
       "    <tr>\n",
       "      <th>count</th>\n",
       "      <td>7.464700e+04</td>\n",
       "      <td>74647.000000</td>\n",
       "      <td>7.464700e+04</td>\n",
       "      <td>74647.000000</td>\n",
       "      <td>74647.000000</td>\n",
       "      <td>74647.000000</td>\n",
       "    </tr>\n",
       "    <tr>\n",
       "      <th>mean</th>\n",
       "      <td>1.615773e+09</td>\n",
       "      <td>1.657200</td>\n",
       "      <td>4.604388e+04</td>\n",
       "      <td>1349.014768</td>\n",
       "      <td>1227.033406</td>\n",
       "      <td>0.760995</td>\n",
       "    </tr>\n",
       "    <tr>\n",
       "      <th>std</th>\n",
       "      <td>9.304964e+08</td>\n",
       "      <td>0.474649</td>\n",
       "      <td>6.123405e+04</td>\n",
       "      <td>1434.022067</td>\n",
       "      <td>2020.818334</td>\n",
       "      <td>1.008344</td>\n",
       "    </tr>\n",
       "    <tr>\n",
       "      <th>min</th>\n",
       "      <td>1.000136e+08</td>\n",
       "      <td>1.000000</td>\n",
       "      <td>0.000000e+00</td>\n",
       "      <td>0.000000</td>\n",
       "      <td>0.000000</td>\n",
       "      <td>0.000000</td>\n",
       "    </tr>\n",
       "    <tr>\n",
       "      <th>25%</th>\n",
       "      <td>8.046809e+08</td>\n",
       "      <td>1.000000</td>\n",
       "      <td>2.034539e+04</td>\n",
       "      <td>390.000000</td>\n",
       "      <td>290.320000</td>\n",
       "      <td>0.000000</td>\n",
       "    </tr>\n",
       "    <tr>\n",
       "      <th>50%</th>\n",
       "      <td>1.562232e+09</td>\n",
       "      <td>2.000000</td>\n",
       "      <td>3.357348e+04</td>\n",
       "      <td>1050.000000</td>\n",
       "      <td>600.000000</td>\n",
       "      <td>0.000000</td>\n",
       "    </tr>\n",
       "    <tr>\n",
       "      <th>75%</th>\n",
       "      <td>2.403852e+09</td>\n",
       "      <td>2.000000</td>\n",
       "      <td>5.519646e+04</td>\n",
       "      <td>1865.155000</td>\n",
       "      <td>1730.320000</td>\n",
       "      <td>1.000000</td>\n",
       "    </tr>\n",
       "    <tr>\n",
       "      <th>max</th>\n",
       "      <td>3.260799e+09</td>\n",
       "      <td>2.000000</td>\n",
       "      <td>4.501830e+06</td>\n",
       "      <td>58298.510000</td>\n",
       "      <td>137700.000000</td>\n",
       "      <td>11.000000</td>\n",
       "    </tr>\n",
       "  </tbody>\n",
       "</table>\n",
       "</div>"
      ],
      "text/plain": [
       "           folioviv    conex_inte       ing_cor       energia       comunica  \\\n",
       "count  7.464700e+04  74647.000000  7.464700e+04  74647.000000   74647.000000   \n",
       "mean   1.615773e+09      1.657200  4.604388e+04   1349.014768    1227.033406   \n",
       "std    9.304964e+08      0.474649  6.123405e+04   1434.022067    2020.818334   \n",
       "min    1.000136e+08      1.000000  0.000000e+00      0.000000       0.000000   \n",
       "25%    8.046809e+08      1.000000  2.034539e+04    390.000000     290.320000   \n",
       "50%    1.562232e+09      2.000000  3.357348e+04   1050.000000     600.000000   \n",
       "75%    2.403852e+09      2.000000  5.519646e+04   1865.155000    1730.320000   \n",
       "max    3.260799e+09      2.000000  4.501830e+06  58298.510000  137700.000000   \n",
       "\n",
       "            menores  \n",
       "count  74647.000000  \n",
       "mean       0.760995  \n",
       "std        1.008344  \n",
       "min        0.000000  \n",
       "25%        0.000000  \n",
       "50%        0.000000  \n",
       "75%        1.000000  \n",
       "max       11.000000  "
      ]
     },
     "execution_count": 7,
     "metadata": {},
     "output_type": "execute_result"
    }
   ],
   "source": [
    "df.describe()"
   ]
  },
  {
   "cell_type": "markdown",
   "metadata": {},
   "source": [
    "Nuestra variable de interés se encuentra en un rango entre (1,2), lo cual representa si el hogar\n",
    "cuenta con internet donde 1 es sí y 2 es no. En ese rango en el que se encontrará nuestro\n",
    "pronóstico de regresión."
   ]
  },
  {
   "cell_type": "markdown",
   "metadata": {},
   "source": [
    "##  4. ¿Qué tipo de distribución sigue la variable de interés ('conex_inte')?\n"
   ]
  },
  {
   "cell_type": "code",
   "execution_count": 8,
   "metadata": {},
   "outputs": [
    {
     "data": {
      "text/plain": [
       "<matplotlib.axes._subplots.AxesSubplot at 0x7fa9a8edd7f0>"
      ]
     },
     "execution_count": 8,
     "metadata": {},
     "output_type": "execute_result"
    },
    {
     "data": {
      "image/png": "[encoded data removed]",
      "text/plain": [
       "<Figure size 1440x720 with 1 Axes>"
      ]
     },
     "metadata": {
      "needs_background": "light"
     },
     "output_type": "display_data"
    }
   ],
   "source": [
    "df['conex_inte'].plot(kind = 'hist',\n",
    "                   figsize= (20,10),\n",
    "                      bins=3\n",
    "                "
   ]
  },
  {
   "cell_type": "markdown",
   "metadata": {},
   "source": [
    "## 5. ¿Cuál es la distribución del resto de variables?"
   ]
  },
  {
   "cell_type": "markdown",
   "metadata": {},
   "source": [
    "¿Cuál es la probabilidad de que un hogar tenga internet?\n",
    "\n",
    "\n",
    "{1 =  tener acceso a internet\n",
    "{0 = otro caso\n",
    "\n",
    "Se observa que tiende a una distribución plana"
   ]
  },
  {
   "cell_type": "code",
   "execution_count": 16,
   "metadata": {},
   "outputs": [
    {
     "data": {
      "text/plain": [
       "<matplotlib.axes._subplots.AxesSubplot at 0x7fa9f85257f0>"
      ]
     },
     "execution_count": 16,
     "metadata": {},
     "output_type": "execute_result"
    },
    {
     "data": {
      "image/png": "[encoded data removed]",
      "text/plain": [
       "<Figure size 432x288 with 1 Axes>"
      ]
     },
     "metadata": {
      "needs_background": "light"
     },
     "output_type": "display_data"
    }
   ],
   "source": [
    "sns.boxplot(data = df.loc[df['conex_inte'],\n",
    " ['energia', 'comunica']])"
   ]
  },
  {
   "cell_type": "code",
   "execution_count": 10,
   "metadata": {},
   "outputs": [
    {
     "data": {
      "text/plain": [
       "<matplotlib.axes._subplots.AxesSubplot at 0x7fa9a8da02b0>"
      ]
     },
     "execution_count": 10,
     "metadata": {},
     "output_type": "execute_result"
    },
    {
     "data": {
      "image/png": "[encoded data removed]",
      "text/plain": [
       "<Figure size 432x288 with 1 Axes>"
      ]
     },
     "metadata": {
      "needs_background": "light"
     },
     "output_type": "display_data"
    }
   ],
   "source": [
    "sns.scatterplot(x='energia',\n",
    "                y='comunica',\n",
    "                hue='menores',\n",
    "                data=df)"
   ]
  },
  {
   "cell_type": "markdown",
   "metadata": {},
   "source": [
    "En este diagrama se observa la tendencia de las variables que estan mas orientados hacia la variable del gasto de energia"
   ]
  },
  {
   "cell_type": "code",
   "execution_count": 11,
   "metadata": {},
   "outputs": [
    {
     "data": {
      "text/html": [
       "<div>\n",
       "<style scoped>\n",
       "    .dataframe tbody tr th:only-of-type {\n",
       "        vertical-align: middle;\n",
       "    }\n",
       "\n",
       "    .dataframe tbody tr th {\n",
       "        vertical-align: top;\n",
       "    }\n",
       "\n",
       "    .dataframe thead th {\n",
       "        text-align: right;\n",
       "    }\n",
       "</style>\n",
       "<table border=\"1\" class=\"dataframe\">\n",
       "  <thead>\n",
       "    <tr style=\"text-align: right;\">\n",
       "      <th></th>\n",
       "      <th>folioviv</th>\n",
       "      <th>conex_inte</th>\n",
       "      <th>ing_cor</th>\n",
       "      <th>energia</th>\n",
       "      <th>comunica</th>\n",
       "      <th>menores</th>\n",
       "    </tr>\n",
       "  </thead>\n",
       "  <tbody>\n",
       "    <tr>\n",
       "      <th>folioviv</th>\n",
       "      <td>1.000000</td>\n",
       "      <td>0.051958</td>\n",
       "      <td>-0.055600</td>\n",
       "      <td>-0.044578</td>\n",
       "      <td>-0.049198</td>\n",
       "      <td>-0.001638</td>\n",
       "    </tr>\n",
       "    <tr>\n",
       "      <th>conex_inte</th>\n",
       "      <td>0.051958</td>\n",
       "      <td>1.000000</td>\n",
       "      <td>-0.300073</td>\n",
       "      <td>-0.274279</td>\n",
       "      <td>-0.427074</td>\n",
       "      <td>0.078293</td>\n",
       "    </tr>\n",
       "    <tr>\n",
       "      <th>ing_cor</th>\n",
       "      <td>-0.055600</td>\n",
       "      <td>-0.300073</td>\n",
       "      <td>1.000000</td>\n",
       "      <td>0.358776</td>\n",
       "      <td>0.373262</td>\n",
       "      <td>-0.002826</td>\n",
       "    </tr>\n",
       "    <tr>\n",
       "      <th>energia</th>\n",
       "      <td>-0.044578</td>\n",
       "      <td>-0.274279</td>\n",
       "      <td>0.358776</td>\n",
       "      <td>1.000000</td>\n",
       "      <td>0.287395</td>\n",
       "      <td>0.007870</td>\n",
       "    </tr>\n",
       "    <tr>\n",
       "      <th>comunica</th>\n",
       "      <td>-0.049198</td>\n",
       "      <td>-0.427074</td>\n",
       "      <td>0.373262</td>\n",
       "      <td>0.287395</td>\n",
       "      <td>1.000000</td>\n",
       "      <td>-0.039514</td>\n",
       "    </tr>\n",
       "    <tr>\n",
       "      <th>menores</th>\n",
       "      <td>-0.001638</td>\n",
       "      <td>0.078293</td>\n",
       "      <td>-0.002826</td>\n",
       "      <td>0.007870</td>\n",
       "      <td>-0.039514</td>\n",
       "      <td>1.000000</td>\n",
       "    </tr>\n",
       "  </tbody>\n",
       "</table>\n",
       "</div>"
      ],
      "text/plain": [
       "            folioviv  conex_inte   ing_cor   energia  comunica   menores\n",
       "folioviv    1.000000    0.051958 -0.055600 -0.044578 -0.049198 -0.001638\n",
       "conex_inte  0.051958    1.000000 -0.300073 -0.274279 -0.427074  0.078293\n",
       "ing_cor    -0.055600   -0.300073  1.000000  0.358776  0.373262 -0.002826\n",
       "energia    -0.044578   -0.274279  0.358776  1.000000  0.287395  0.007870\n",
       "comunica   -0.049198   -0.427074  0.373262  0.287395  1.000000 -0.039514\n",
       "menores    -0.001638    0.078293 -0.002826  0.007870 -0.039514  1.000000"
      ]
     },
     "execution_count": 11,
     "metadata": {},
     "output_type": "execute_result"
    }
   ],
   "source": [
    "df.corr()"
   ]
  },
  {
   "cell_type": "markdown",
   "metadata": {},
   "source": [
    "## 8. ¿Qué tan bueno es el análisis de regresión para 'conex_inte' en función de 'menores'?"
   ]
  },
  {
   "cell_type": "markdown",
   "metadata": {},
   "source": [
    "A partir de la información, existe una variable que resalta sobre las demás, esta es \"menores\", la\n",
    "cual será la mejor opción para construir una función de regresión de la siguiente manera:\n",
    "conex_inte = B0 + B1 * menores"
   ]
  },
  {
   "cell_type": "code",
   "execution_count": 12,
   "metadata": {},
   "outputs": [
    {
     "data": {
      "text/html": [
       "<table class=\"simpletable\">\n",
       "<caption>OLS Regression Results</caption>\n",
       "<tr>\n",
       "  <th>Dep. Variable:</th>       <td>conex_inte</td>    <th>  R-squared:         </th> <td>   0.006</td> \n",
       "</tr>\n",
       "<tr>\n",
       "  <th>Model:</th>                   <td>OLS</td>       <th>  Adj. R-squared:    </th> <td>   0.006</td> \n",
       "</tr>\n",
       "<tr>\n",
       "  <th>Method:</th>             <td>Least Squares</td>  <th>  F-statistic:       </th> <td>   460.4</td> \n",
       "</tr>\n",
       "<tr>\n",
       "  <th>Date:</th>             <td>Thu, 21 Oct 2021</td> <th>  Prob (F-statistic):</th> <td>8.10e-102</td>\n",
       "</tr>\n",
       "<tr>\n",
       "  <th>Time:</th>                 <td>02:43:46</td>     <th>  Log-Likelihood:    </th> <td> -50064.</td> \n",
       "</tr>\n",
       "<tr>\n",
       "  <th>No. Observations:</th>      <td> 74647</td>      <th>  AIC:               </th> <td>1.001e+05</td>\n",
       "</tr>\n",
       "<tr>\n",
       "  <th>Df Residuals:</th>          <td> 74645</td>      <th>  BIC:               </th> <td>1.002e+05</td>\n",
       "</tr>\n",
       "<tr>\n",
       "  <th>Df Model:</th>              <td>     1</td>      <th>                     </th>     <td> </td>    \n",
       "</tr>\n",
       "<tr>\n",
       "  <th>Covariance Type:</th>      <td>nonrobust</td>    <th>                     </th>     <td> </td>    \n",
       "</tr>\n",
       "</table>\n",
       "<table class=\"simpletable\">\n",
       "<tr>\n",
       "      <td></td>         <th>coef</th>     <th>std err</th>      <th>t</th>      <th>P>|t|</th>  <th>[0.025</th>    <th>0.975]</th>  \n",
       "</tr>\n",
       "<tr>\n",
       "  <th>Intercept</th> <td>    1.6292</td> <td>    0.002</td> <td>  750.822</td> <td> 0.000</td> <td>    1.625</td> <td>    1.633</td>\n",
       "</tr>\n",
       "<tr>\n",
       "  <th>menores</th>   <td>    0.0369</td> <td>    0.002</td> <td>   21.456</td> <td> 0.000</td> <td>    0.033</td> <td>    0.040</td>\n",
       "</tr>\n",
       "</table>\n",
       "<table class=\"simpletable\">\n",
       "<tr>\n",
       "  <th>Omnibus:</th>       <td>408066.050</td> <th>  Durbin-Watson:     </th> <td>   1.442</td> \n",
       "</tr>\n",
       "<tr>\n",
       "  <th>Prob(Omnibus):</th>   <td> 0.000</td>   <th>  Jarque-Bera (JB):  </th> <td>12760.498</td>\n",
       "</tr>\n",
       "<tr>\n",
       "  <th>Skew:</th>            <td>-0.655</td>   <th>  Prob(JB):          </th> <td>    0.00</td> \n",
       "</tr>\n",
       "<tr>\n",
       "  <th>Kurtosis:</th>        <td> 1.454</td>   <th>  Cond. No.          </th> <td>    2.10</td> \n",
       "</tr>\n",
       "</table><br/><br/>Notes:<br/>[1] Standard Errors assume that the covariance matrix of the errors is correctly specified."
      ],
      "text/plain": [
       "<class 'statsmodels.iolib.summary.Summary'>\n",
       "\"\"\"\n",
       "                            OLS Regression Results                            \n",
       "==============================================================================\n",
       "Dep. Variable:             conex_inte   R-squared:                       0.006\n",
       "Model:                            OLS   Adj. R-squared:                  0.006\n",
       "Method:                 Least Squares   F-statistic:                     460.4\n",
       "Date:                Thu, 21 Oct 2021   Prob (F-statistic):          8.10e-102\n",
       "Time:                        02:43:46   Log-Likelihood:                -50064.\n",
       "No. Observations:               74647   AIC:                         1.001e+05\n",
       "Df Residuals:                   74645   BIC:                         1.002e+05\n",
       "Df Model:                           1                                         \n",
       "Covariance Type:            nonrobust                                         \n",
       "==============================================================================\n",
       "                 coef    std err          t      P>|t|      [0.025      0.975]\n",
       "------------------------------------------------------------------------------\n",
       "Intercept      1.6292      0.002    750.822      0.000       1.625       1.633\n",
       "menores        0.0369      0.002     21.456      0.000       0.033       0.040\n",
       "==============================================================================\n",
       "Omnibus:                   408066.050   Durbin-Watson:                   1.442\n",
       "Prob(Omnibus):                  0.000   Jarque-Bera (JB):            12760.498\n",
       "Skew:                          -0.655   Prob(JB):                         0.00\n",
       "Kurtosis:                       1.454   Cond. No.                         2.10\n",
       "==============================================================================\n",
       "\n",
       "Notes:\n",
       "[1] Standard Errors assume that the covariance matrix of the errors is correctly specified.\n",
       "\"\"\""
      ]
     },
     "execution_count": 12,
     "metadata": {},
     "output_type": "execute_result"
    }
   ],
   "source": [
    "model = sm.OLS.from_formula('conex_inte~menores',data=df)\n",
    "result = model.fit()\n",
    "result.summary()"
   ]
  },
  {
   "cell_type": "code",
   "execution_count": null,
   "metadata": {},
   "outputs": [],
   "source": []
  }
 ],
 "metadata": {
  "kernelspec": {
   "display_name": "Python 3 (ipykernel)",
   "language": "python",
   "name": "python3"
  },
  "language_info": {
   "codemirror_mode": {
    "name": "ipython",
    "version": 3
   },
   "file_extension": ".py",
   "mimetype": "text/x-python",
   "name": "python",
   "nbconvert_exporter": "python",
   "pygments_lexer": "ipython3",
   "version": "3.8.12"
  }
 },
 "nbformat": 4,
 "nbformat_minor": 4
}
